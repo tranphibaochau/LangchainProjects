{
 "cells": [
  {
   "cell_type": "markdown",
   "source": [
    "In this notebook, I am learning how to use LangChain and Kor to extract structured data from text, and ask the LLM questions about it to see how accurate is the result. I am also using NeMo Guardrails to ensure the LLM only answers on-topic questions."
   ],
   "metadata": {
    "collapsed": false
   }
  },
  {
   "cell_type": "code",
   "execution_count": 82,
   "outputs": [],
   "source": [
    "from kor.extraction import create_extraction_chain\n",
    "from kor.nodes import Object, Text, Number\n",
    "from langchain.chat_models import ChatOpenAI\n",
    "from langchain.llms import OpenAI\n",
    "\n",
    "import pandas as pd\n",
    "import requests\n",
    "import time\n",
    "import json\n",
    "from datetime import datetime\n",
    "\n",
    "from bs4 import BeautifulSoup\n",
    "from markdownify import markdownify as md\n",
    "\n",
    "from langchain.callbacks import get_openai_callback\n",
    "\n",
    "OPENAI_API_KEY = \"...\"\n",
    "#os.environ[\"OPENAI_API_KEY\"] = \"...\""
   ],
   "metadata": {
    "collapsed": false
   }
  },
  {
   "cell_type": "code",
   "execution_count": 11,
   "outputs": [],
   "source": [
    "# TEST EXAMPLE\n",
    "llm = ChatOpenAI(\n",
    "     model_name=\"gpt-3.5-turbo\",\n",
    "    temperature=0,\n",
    "    max_tokens=2000,\n",
    "    openai_api_key=OPENAI_API_KEY\n",
    ")\n",
    "\n",
    "table_schema = Object(\n",
    "    # This what will appear in your output. It's what the fields below will be nested under.\n",
    "    # It should be the parent of the fields below. Usually it's singular (not plural)\n",
    "    id=\"person\",\n",
    "\n",
    "    # Natural language description about your object\n",
    "    description=\"Personal information about a person\",\n",
    "\n",
    "    # Fields you'd like to capture from a piece of text about your object.\n",
    "    attributes=[\n",
    "        Text(\n",
    "            id=\"first_name\",\n",
    "            description=\"The first name of a person.\",\n",
    "        ),\n",
    "        Text(\n",
    "            id=\"last_name\",\n",
    "            description=\"The last name of a person.\",\n",
    "        )\n",
    "    ],\n",
    "\n",
    "    # Examples help go a long way with telling the LLM what you need\n",
    "    examples=[\n",
    "        (\"Alice Stoya and Bob Marlin are best friends\", [{\"first_name\": \"Alice\", \"last_name\": \"Stoya\"}, {\"first_name\": \"Bob\", \"last_name\": \"Marlin\"}])\n",
    "    ]\n",
    ")"
   ],
   "metadata": {
    "collapsed": false
   }
  },
  {
   "cell_type": "markdown",
   "source": [
    "Next, we create a chain that can extract information"
   ],
   "metadata": {
    "collapsed": false
   }
  },
  {
   "cell_type": "code",
   "execution_count": 12,
   "outputs": [],
   "source": [
    "chain = create_extraction_chain(llm, table_schema)"
   ],
   "metadata": {
    "collapsed": false
   }
  },
  {
   "cell_type": "code",
   "execution_count": 13,
   "outputs": [
    {
     "name": "stdout",
     "output_type": "stream",
     "text": [
      "{\n",
      "   \"person\": [\n",
      "      {\n",
      "         \"first_name\": \"Chau\",\n",
      "         \"last_name\": \"Tran\"\n",
      "      },\n",
      "      {\n",
      "         \"first_name\": \"Duong\",\n",
      "         \"last_name\": \"Tran\"\n",
      "      },\n",
      "      {\n",
      "         \"first_name\": \"Trang\",\n",
      "         \"last_name\": \"Tran\"\n",
      "      },\n",
      "      {\n",
      "         \"first_name\": \"Thuong\",\n",
      "         \"last_name\": \"Tran\"\n",
      "      },\n",
      "      {\n",
      "         \"first_name\": \"Chi\",\n",
      "         \"last_name\": \"\"\n",
      "      }\n",
      "   ]\n",
      "}\n"
     ]
    }
   ],
   "source": [
    "example = \"\"\"\n",
    "    My name is Chau.\n",
    "    My sister's name is Duong.\n",
    "    My wife's name is Trang.\n",
    "    My father's name is Thuong.\n",
    "    My mother's name is Chi.\n",
    "    All of our last name except for my mother's is Tran.\n",
    "    My mother doesn't have a last name.\n",
    "\"\"\" # intentionally leaving my mother's last name as blank\n",
    "# a helper function to print output\n",
    "def print_output(output):\n",
    "    print(json.dumps(output,sort_keys=True, indent=3))\n",
    "table = chain.predict_and_parse(text=(example))[\"data\"]\n",
    "print_output(table)"
   ],
   "metadata": {
    "collapsed": false
   }
  },
  {
   "cell_type": "markdown",
   "source": [
    "Example of working with lists and nested objects"
   ],
   "metadata": {
    "collapsed": false
   }
  },
  {
   "cell_type": "code",
   "execution_count": 133,
   "outputs": [],
   "source": [
    "parts = Object(\n",
    "    id=\"parts\",\n",
    "    description=\"A single part of a car\",\n",
    "    attributes=[\n",
    "        Text(id=\"part\", description=\"The name of the part\"),\n",
    "        Text(id=\"type\", description=\"The type of the part\"),\n",
    "        Number(id=\"quantity\", description=\"How many parts the car currently has\")\n",
    "    ],\n",
    "    examples=[\n",
    "        (\n",
    "            \"My cars has 4 off-road tires, 1 steering wheel, and 4 leather seats\",\n",
    "            [\n",
    "                {\"part\": \"tire\", \"type\": \"off-road\", \"quantity\": 4},\n",
    "                {\"part\": \"steering wheel\", \"type\": None,\"quantity\": 1},\n",
    "                {\"part\": \"seat\", \"type\": \"leather\",\"quantity\": 4}\n",
    "            ],\n",
    "        )\n",
    "    ],\n",
    "    many=True\n",
    ")\n",
    "\n",
    "cars_schema = Object(\n",
    "    id=\"car\",\n",
    "    description=\"Information about a car\",\n",
    "    attributes=[\n",
    "        Text(\n",
    "            id=\"brand\",\n",
    "            description=\"The make or brand of the car\"\n",
    "        ),\n",
    "        Text(\n",
    "            id=\"name\",\n",
    "            description=\"The name of the car\"\n",
    "        ),\n",
    "        Text(\n",
    "            id=\"color\",\n",
    "            description=\"The color of the car\"\n",
    "        ),\n",
    "        parts\n",
    "    ],\n",
    "    examples=[\n",
    "        (\n",
    "            \"the BMW i8 is white and has an 4 all-season tires, missing the steering wheel, and have 6 leather seats. The Ford Camry is blue and has 4 seats, V4 engine, and 4 doors\",\n",
    "            [\n",
    "                {\"brand\": \"BMW\", \"name\": \"i8\", \"color\": \"white\", \"parts\":[{\"part\": \"tire\", \"type\": \"all-season\", \"quantity\": 4}, {\"part\": \"seat\", \"type\": \"leather\", \"quantity\": 6}]},\n",
    "                {\"brand\": \"Ford\", \"name\": \"Camry\", \"color\": \"blue\", \"parts\":[{\"part\": \"seat\", \"type\": None, \"quantity\": 4}, {\"part\": \"engine\", \"type\": \"V4\", \"quantity\": 1}, {\"part\": \"door\", \"type\": None, \"quantity\": 4}]}\n",
    "            ],\n",
    "        ),\n",
    "        (\n",
    "            \"My dream car is an orange Ford Bronco, with an V8 engine, 4 off-road tires, and 5 seats, and a steering wheel. However, all I can afford right now is a white Ford Camry with V4 engine, missing steering wheel, 3 working tires, and 2 faux-leathered seats. If I earn 1 billion dollars, I will definitely buy an orange McLaren P1 with V12 engine, 2 butterfly doors, and a spoiler\",\n",
    "            [\n",
    "                {\"brand\": \"Ford\", \"name\": \"Bronco\", \"color\": \"orange\", \"parts\":[{\"part\": \"engine\", \"type\": \"V8\", \"quantity\": 1}, {\"part\": \"seat\", \"type\": None, \"quantity\": 4}, {\"part\": \"steering wheel\", \"quantity\": 1,\"type\": None}]},\n",
    "                {\"brand\": \"Ford\", \"name\": \"Camry\", \"color\": \"white\", \"parts\":[{\"part\": \"engine\", \"type\": \"V4\", \"quantity\": 1}, {\"part\": \"tire\", \"type\": None, \"quantity\": 3}, {\"part\": \"seat\", \"type\": \"faux-leathered\", \"quantity\": 2}]},\n",
    "                {\"brand\": \"McLaren\", \"name\": \"P1\", \"color\": \"orange\", \"parts\":[{\"part\": \"engine\", \"type\": \"V12\", \"quantity\": 1}, {\"part\": \"door\", \"type\": \"butterfly\", \"quantity\": 2}, {\"part\": \"spoiler\", \"type\": None, \"quantity\": 1}]}\n",
    "            ],\n",
    "        )\n",
    "    ],\n",
    "    many=True\n",
    ")"
   ],
   "metadata": {
    "collapsed": false
   }
  },
  {
   "cell_type": "code",
   "execution_count": 178,
   "outputs": [
    {
     "name": "stdout",
     "output_type": "stream",
     "text": [
      "{\n",
      "   \"car\": [\n",
      "      {\n",
      "         \"brand\": \"Toyota\",\n",
      "         \"color\": \"white\",\n",
      "         \"name\": \"Camry\",\n",
      "         \"parts\": [\n",
      "            {\n",
      "               \"part\": \"engine\",\n",
      "               \"quantity\": 1,\n",
      "               \"type\": \"V4\"\n",
      "            },\n",
      "            {\n",
      "               \"part\": \"tire\",\n",
      "               \"quantity\": 2,\n",
      "               \"type\": null\n",
      "            },\n",
      "            {\n",
      "               \"part\": \"seat\",\n",
      "               \"quantity\": 2,\n",
      "               \"type\": \"faux-leather\"\n",
      "            }\n",
      "         ]\n",
      "      },\n",
      "      {\n",
      "         \"brand\": \"Audi\",\n",
      "         \"color\": \"orange\",\n",
      "         \"name\": \"A6\",\n",
      "         \"parts\": [\n",
      "            {\n",
      "               \"part\": \"engine\",\n",
      "               \"quantity\": 1,\n",
      "               \"type\": \"V8\"\n",
      "            },\n",
      "            {\n",
      "               \"part\": \"seat\",\n",
      "               \"quantity\": 4,\n",
      "               \"type\": \"heated\"\n",
      "            },\n",
      "            {\n",
      "               \"part\": \"spoiler\",\n",
      "               \"quantity\": 1,\n",
      "               \"type\": \"custom-made\"\n",
      "            }\n",
      "         ]\n",
      "      },\n",
      "      {\n",
      "         \"brand\": \"Range Rover\",\n",
      "         \"color\": null,\n",
      "         \"name\": \"Discovery\",\n",
      "         \"parts\": [\n",
      "            {\n",
      "               \"part\": \"engine\",\n",
      "               \"quantity\": 1,\n",
      "               \"type\": \"V8\"\n",
      "            },\n",
      "            {\n",
      "               \"part\": \"tire\",\n",
      "               \"quantity\": 4,\n",
      "               \"type\": \"off-road\"\n",
      "            },\n",
      "            {\n",
      "               \"part\": \"camera\",\n",
      "               \"quantity\": 4,\n",
      "               \"type\": \"surround\"\n",
      "            },\n",
      "            {\n",
      "               \"part\": \"seat\",\n",
      "               \"quantity\": 7,\n",
      "               \"type\": \"Ebony DuoLeather\"\n",
      "            }\n",
      "         ]\n",
      "      }\n",
      "   ]\n",
      "}\n"
     ]
    }
   ],
   "source": [
    "# To do nested objects you need to specify encoder_or_encoder_class=\"json\"\n",
    "example1 = \"In 5 years, I plan to buy Range Rover Discovery, with an V8 engine, 4 off-road tires, 4 surround cameras, and 7 Ebony DuoLeather seats. However, all I can afford right now is a white Toyota Camry with V4 engine, missing steering wheel, 2 working tires, and 2 faux-leather seats. My wife on the other hand wants to buy orange Audi A6 car with V8 engine, 4 heated seats , and a custom-made spoiler\"\n",
    "# Changed the encoder to json\n",
    "chain = create_extraction_chain(llm, cars_schema, encoder_or_encoder_class=\"json\")\n",
    "output = chain.predict_and_parse(text=example1)['data']\n",
    "\n",
    "print_output(output)"
   ],
   "metadata": {
    "collapsed": false
   }
  },
  {
   "cell_type": "markdown",
   "source": [
    "Since we are dealing with nested object, I want to create two dataframes that acts like relational databases from the ouput object"
   ],
   "metadata": {
    "collapsed": false
   }
  },
  {
   "cell_type": "code",
   "execution_count": 179,
   "outputs": [],
   "source": [
    "def convert_dict_to_df(dict_object):\n",
    "    for key, value in dict_object.items():\n",
    "        df1 = pd.DataFrame.from_dict(value)\n",
    "    df1.index.names=['car_id']\n",
    "    df2 = pd.DataFrame()\n",
    "    for row in df1.index:\n",
    "        part = df1.iloc[row, [3]][0]\n",
    "        row_df = pd.DataFrame.from_dict(part)\n",
    "        row_df['car_id'] = row\n",
    "        df2 = pd.concat([df2, row_df],ignore_index=True)\n",
    "\n",
    "    df2.index.names = ['part_id']\n",
    "    df1.drop(['parts'], axis=1, inplace=True)\n",
    "    return df1, df2\n",
    "\n",
    "car_table, part_table = convert_dict_to_df(output)"
   ],
   "metadata": {
    "collapsed": false
   }
  },
  {
   "cell_type": "code",
   "execution_count": 180,
   "outputs": [
    {
     "data": {
      "text/plain": "              brand       name   color\ncar_id                                \n0            Toyota      Camry   white\n1              Audi         A6  orange\n2       Range Rover  Discovery    None",
      "text/html": "<div>\n<style scoped>\n    .dataframe tbody tr th:only-of-type {\n        vertical-align: middle;\n    }\n\n    .dataframe tbody tr th {\n        vertical-align: top;\n    }\n\n    .dataframe thead th {\n        text-align: right;\n    }\n</style>\n<table border=\"1\" class=\"dataframe\">\n  <thead>\n    <tr style=\"text-align: right;\">\n      <th></th>\n      <th>brand</th>\n      <th>name</th>\n      <th>color</th>\n    </tr>\n    <tr>\n      <th>car_id</th>\n      <th></th>\n      <th></th>\n      <th></th>\n    </tr>\n  </thead>\n  <tbody>\n    <tr>\n      <th>0</th>\n      <td>Toyota</td>\n      <td>Camry</td>\n      <td>white</td>\n    </tr>\n    <tr>\n      <th>1</th>\n      <td>Audi</td>\n      <td>A6</td>\n      <td>orange</td>\n    </tr>\n    <tr>\n      <th>2</th>\n      <td>Range Rover</td>\n      <td>Discovery</td>\n      <td>None</td>\n    </tr>\n  </tbody>\n</table>\n</div>"
     },
     "execution_count": 180,
     "metadata": {},
     "output_type": "execute_result"
    }
   ],
   "source": [
    "car_table"
   ],
   "metadata": {
    "collapsed": false
   }
  },
  {
   "cell_type": "code",
   "execution_count": 181,
   "outputs": [
    {
     "data": {
      "text/plain": "            part              type  quantity  car_id\npart_id                                             \n0         engine                V4         1       0\n1           tire              None         2       0\n2           seat      faux-leather         2       0\n3         engine                V8         1       1\n4           seat            heated         4       1\n5        spoiler       custom-made         1       1\n6         engine                V8         1       2\n7           tire          off-road         4       2\n8         camera          surround         4       2\n9           seat  Ebony DuoLeather         7       2",
      "text/html": "<div>\n<style scoped>\n    .dataframe tbody tr th:only-of-type {\n        vertical-align: middle;\n    }\n\n    .dataframe tbody tr th {\n        vertical-align: top;\n    }\n\n    .dataframe thead th {\n        text-align: right;\n    }\n</style>\n<table border=\"1\" class=\"dataframe\">\n  <thead>\n    <tr style=\"text-align: right;\">\n      <th></th>\n      <th>part</th>\n      <th>type</th>\n      <th>quantity</th>\n      <th>car_id</th>\n    </tr>\n    <tr>\n      <th>part_id</th>\n      <th></th>\n      <th></th>\n      <th></th>\n      <th></th>\n    </tr>\n  </thead>\n  <tbody>\n    <tr>\n      <th>0</th>\n      <td>engine</td>\n      <td>V4</td>\n      <td>1</td>\n      <td>0</td>\n    </tr>\n    <tr>\n      <th>1</th>\n      <td>tire</td>\n      <td>None</td>\n      <td>2</td>\n      <td>0</td>\n    </tr>\n    <tr>\n      <th>2</th>\n      <td>seat</td>\n      <td>faux-leather</td>\n      <td>2</td>\n      <td>0</td>\n    </tr>\n    <tr>\n      <th>3</th>\n      <td>engine</td>\n      <td>V8</td>\n      <td>1</td>\n      <td>1</td>\n    </tr>\n    <tr>\n      <th>4</th>\n      <td>seat</td>\n      <td>heated</td>\n      <td>4</td>\n      <td>1</td>\n    </tr>\n    <tr>\n      <th>5</th>\n      <td>spoiler</td>\n      <td>custom-made</td>\n      <td>1</td>\n      <td>1</td>\n    </tr>\n    <tr>\n      <th>6</th>\n      <td>engine</td>\n      <td>V8</td>\n      <td>1</td>\n      <td>2</td>\n    </tr>\n    <tr>\n      <th>7</th>\n      <td>tire</td>\n      <td>off-road</td>\n      <td>4</td>\n      <td>2</td>\n    </tr>\n    <tr>\n      <th>8</th>\n      <td>camera</td>\n      <td>surround</td>\n      <td>4</td>\n      <td>2</td>\n    </tr>\n    <tr>\n      <th>9</th>\n      <td>seat</td>\n      <td>Ebony DuoLeather</td>\n      <td>7</td>\n      <td>2</td>\n    </tr>\n  </tbody>\n</table>\n</div>"
     },
     "execution_count": 181,
     "metadata": {},
     "output_type": "execute_result"
    }
   ],
   "source": [
    "part_table"
   ],
   "metadata": {
    "collapsed": false
   }
  },
  {
   "cell_type": "code",
   "execution_count": null,
   "outputs": [],
   "source": [],
   "metadata": {
    "collapsed": false
   }
  }
 ],
 "metadata": {
  "kernelspec": {
   "display_name": "Python 3",
   "language": "python",
   "name": "python3"
  },
  "language_info": {
   "codemirror_mode": {
    "name": "ipython",
    "version": 2
   },
   "file_extension": ".py",
   "mimetype": "text/x-python",
   "name": "python",
   "nbconvert_exporter": "python",
   "pygments_lexer": "ipython2",
   "version": "2.7.6"
  }
 },
 "nbformat": 4,
 "nbformat_minor": 0
}
