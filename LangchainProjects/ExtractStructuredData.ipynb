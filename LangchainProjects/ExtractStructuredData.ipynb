{
 "cells": [
  {
   "cell_type": "markdown",
   "source": [
    "In this notebook, I am learning how to use LangChain and Kor to extract structured data from text, and ask the LLM questions about it to see how accurate is the result. I am also using NeMo Guardrails to ensure the LLM only answers on-topic questions."
   ],
   "metadata": {
    "collapsed": false
   }
  },
  {
   "cell_type": "code",
   "execution_count": 12,
   "outputs": [],
   "source": [
    "from kor.extraction import create_extraction_chain\n",
    "from kor.nodes import Object, Text, Number\n",
    "from langchain.chat_models import ChatOpenAI\n",
    "from langchain.llms import OpenAI\n",
    "\n",
    "import pandas as pd\n",
    "import requests\n",
    "import time\n",
    "import json\n",
    "from datetime import datetime\n",
    "\n",
    "from bs4 import BeautifulSoup\n",
    "from markdownify import markdownify as md\n",
    "\n",
    "from langchain.callbacks import get_openai_callback\n",
    "\n",
    "OPENAI_API_KEY = \"...\"\n",
    "#os.environ[\"OPENAI_API_KEY\"] = \"...\""
   ],
   "metadata": {
    "collapsed": false
   }
  },
  {
   "cell_type": "code",
   "execution_count": 19,
   "outputs": [],
   "source": [
    "# TEST EXAMPLE\n",
    "llm = ChatOpenAI(\n",
    "     model_name=\"gpt-3.5-turbo\",\n",
    "    temperature=0,\n",
    "    max_tokens=2000,\n",
    "    openai_api_key=OPENAI_API_KEY\n",
    ")\n",
    "\n",
    "table_schema = Object(\n",
    "    # This what will appear in your output. It's what the fields below will be nested under.\n",
    "    # It should be the parent of the fields below. Usually it's singular (not plural)\n",
    "    id=\"person\",\n",
    "\n",
    "    # Natural language description about your object\n",
    "    description=\"Personal information about a person\",\n",
    "\n",
    "    # Fields you'd like to capture from a piece of text about your object.\n",
    "    attributes=[\n",
    "        Text(\n",
    "            id=\"first_name\",\n",
    "            description=\"The first name of a person.\",\n",
    "        ),\n",
    "        Text(\n",
    "            id=\"last_name\",\n",
    "            description=\"The last name of a person.\",\n",
    "        )\n",
    "    ],\n",
    "\n",
    "    # Examples help go a long way with telling the LLM what you need\n",
    "    examples=[\n",
    "        (\"Alice Stoya and Bob Marlin are best friends\", [{\"first_name\": \"Alice\", \"last_name\": \"Stoya\"}, {\"first_name\": \"Bob\", \"last_name\": \"Marlin\"}])\n",
    "    ]\n",
    ")"
   ],
   "metadata": {
    "collapsed": false
   }
  },
  {
   "cell_type": "markdown",
   "source": [
    "Next, we create a chain that can extract information"
   ],
   "metadata": {
    "collapsed": false
   }
  },
  {
   "cell_type": "code",
   "execution_count": 20,
   "outputs": [],
   "source": [
    "chain = create_extraction_chain(llm, table_schema)"
   ],
   "metadata": {
    "collapsed": false
   }
  },
  {
   "cell_type": "code",
   "execution_count": 24,
   "outputs": [
    {
     "name": "stdout",
     "output_type": "stream",
     "text": [
      "{\n",
      "   \"person\": [\n",
      "      {\n",
      "         \"first_name\": \"Chau\",\n",
      "         \"last_name\": \"Tran\"\n",
      "      },\n",
      "      {\n",
      "         \"first_name\": \"Duong\",\n",
      "         \"last_name\": \"Tran\"\n",
      "      },\n",
      "      {\n",
      "         \"first_name\": \"Trang\",\n",
      "         \"last_name\": \"Tran\"\n",
      "      },\n",
      "      {\n",
      "         \"first_name\": \"Thuong\",\n",
      "         \"last_name\": \"Tran\"\n",
      "      },\n",
      "      {\n",
      "         \"first_name\": \"Chi\",\n",
      "         \"last_name\": \"\"\n",
      "      }\n",
      "   ]\n",
      "}\n"
     ]
    }
   ],
   "source": [
    "example = \"\"\"\n",
    "    My name is Chau.\n",
    "    My sister's name is Duong.\n",
    "    My wife's name is Trang.\n",
    "    My father's name is Thuong.\n",
    "    My mother's name is Chi.\n",
    "    All of our last name except for my mother's is Tran.\n",
    "    My mother doesn't have a last name.\n",
    "\"\"\" # intentionally leaving my mother's last name as blank\n",
    "# a helper function to print output\n",
    "def print_output(output):\n",
    "    print(json.dumps(output,sort_keys=True, indent=3))\n",
    "table = chain.predict_and_parse(text=(example))[\"data\"]\n",
    "print_output(table)"
   ],
   "metadata": {
    "collapsed": false
   }
  },
  {
   "cell_type": "markdown",
   "source": [
    "Example of working with lists and nested objects"
   ],
   "metadata": {
    "collapsed": false
   }
  },
  {
   "cell_type": "code",
   "execution_count": 25,
   "outputs": [],
   "source": [
    "parts = Object(\n",
    "    id=\"parts\",\n",
    "    description=\"A single part of a car\",\n",
    "    attributes=[\n",
    "        Text(id=\"part\", description=\"The name of the part\"),\n",
    "        Number(id=\"quantity\", description=\"How many parts the car currently has\")\n",
    "    ],\n",
    "    examples=[\n",
    "        (\n",
    "            \"My cars has 4 tires, 1 steering wheel, and 4 seats\",\n",
    "            [\n",
    "                {\"part\": \"tire\", \"quantity\": 4},\n",
    "                {\"part\": \"steering wheel\", \"quantity\": 1},\n",
    "                {\"part\": \"seat\", \"quantity\": 4}\n",
    "            ],\n",
    "        )\n",
    "    ]\n",
    ")\n",
    "\n",
    "cars_schema = Object(\n",
    "    id=\"car\",\n",
    "    description=\"Information about a car\",\n",
    "    examples=[\n",
    "        (\n",
    "            \"the BMW is white and has an 4 tires, missing the steering wheel, and have 3 seats\",\n",
    "            [\n",
    "                {\"brand\": \"BMW\", \"color\": \"white\", \"parts\" : {\"tire\": 4, \"steering wheel\": 0, \"seat\": 3}}\n",
    "            ],\n",
    "        )\n",
    "    ],\n",
    "    attributes=[\n",
    "        Text(\n",
    "            id=\"brand\",\n",
    "            description=\"The make or brand of the car\"\n",
    "        ),\n",
    "        Text(\n",
    "            id=\"color\",\n",
    "            description=\"The color of the car\"\n",
    "        ),\n",
    "        parts\n",
    "    ]\n",
    ")"
   ],
   "metadata": {
    "collapsed": false
   }
  },
  {
   "cell_type": "code",
   "execution_count": 27,
   "outputs": [
    {
     "name": "stdout",
     "output_type": "stream",
     "text": [
      "{\n",
      "   \"car\": {\n",
      "      \"brand\": \"Ford Bronco\",\n",
      "      \"color\": \"orange\",\n",
      "      \"parts\": {\n",
      "         \"engine\": \"V8\",\n",
      "         \"seat\": 5,\n",
      "         \"steering wheel\": 1,\n",
      "         \"tire\": 4\n",
      "      }\n",
      "   }\n",
      "}\n"
     ]
    }
   ],
   "source": [
    "# To do nested objects you need to specify encoder_or_encoder_class=\"json\"\n",
    "example1 = \"My dream car is an orange Ford Bronco, with V8 engine, 4 tires, and 5 seats, and a steering wheel. However, all I can afford right now is a Ford Camry with V4 engine, missing steering wheel, 3 working tires, and 2 seats\"\n",
    "# Changed the encoder to json\n",
    "chain = create_extraction_chain(llm, cars_schema, encoder_or_encoder_class=\"json\")\n",
    "output = chain.predict_and_parse(text=text)['data']\n",
    "\n",
    "print_output(output) # it looks like the table won't store two different cars"
   ],
   "metadata": {
    "collapsed": false
   }
  },
  {
   "cell_type": "code",
   "execution_count": null,
   "outputs": [],
   "source": [],
   "metadata": {
    "collapsed": false
   }
  }
 ],
 "metadata": {
  "kernelspec": {
   "display_name": "Python 3",
   "language": "python",
   "name": "python3"
  },
  "language_info": {
   "codemirror_mode": {
    "name": "ipython",
    "version": 2
   },
   "file_extension": ".py",
   "mimetype": "text/x-python",
   "name": "python",
   "nbconvert_exporter": "python",
   "pygments_lexer": "ipython2",
   "version": "2.7.6"
  }
 },
 "nbformat": 4,
 "nbformat_minor": 0
}
