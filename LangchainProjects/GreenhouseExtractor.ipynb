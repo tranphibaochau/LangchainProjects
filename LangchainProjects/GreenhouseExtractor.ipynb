{
 "cells": [
  {
   "cell_type": "code",
   "execution_count": 1,
   "metadata": {
    "collapsed": true
   },
   "outputs": [],
   "source": [
    "from kor.extraction import create_extraction_chain\n",
    "from kor.nodes import Object, Text, Number\n",
    "from langchain.chat_models import ChatOpenAI\n",
    "from langchain.llms import OpenAI\n",
    "\n",
    "import pandas as pd\n",
    "import requests\n",
    "import time\n",
    "import json\n",
    "from datetime import datetime\n",
    "\n",
    "from bs4 import BeautifulSoup\n",
    "from markdownify import markdownify as md\n",
    "\n",
    "from langchain.callbacks import get_openai_callback\n",
    "\n",
    "OPENAI_API_KEY = \"...\"\n",
    "#os.environ[\"OPENAI_API_KEY\"] = \"...\" # remember to delete this before committing on Github"
   ]
  },
  {
   "cell_type": "code",
   "execution_count": 2,
   "outputs": [],
   "source": [
    "llm = ChatOpenAI(\n",
    "    model_name=\"gpt-3.5-turbo\",\n",
    "    temperature=0,\n",
    "    max_tokens=2000,\n",
    "    openai_api_key=OPENAI_API_KEY\n",
    ")"
   ],
   "metadata": {
    "collapsed": false
   }
  },
  {
   "cell_type": "code",
   "execution_count": 11,
   "outputs": [],
   "source": [
    "def pull_data_from_url(token):\n",
    "    \"\"\"\n",
    "    Pull data about a job posting on Greenhouse using token\n",
    "    :param token: a keyword of the company you're searching for\n",
    "    :return:\n",
    "    \"\"\"\n",
    "    # url to pull job data from\n",
    "    url = f'https://boards-api.greenhouse.io/v1/boards/{token}/jobs?content=true'\n",
    "\n",
    "    try:\n",
    "        response = requests.get(url)\n",
    "    except: # handling exception\n",
    "        print (\"Cannot request URL! Try again!\")\n",
    "        return\n",
    "\n",
    "    status_code = response.status_code\n",
    "    try:\n",
    "        jobs = response.json()['jobs']\n",
    "    except KeyError:\n",
    "        print(f\"Cannot find urls with keyword \\\"{token}\\\" given! Try again.\")\n",
    "        return\n",
    "    print (f\"{token}: {status_code}, Found {len(jobs)} jobs\")\n",
    "\n",
    "    return jobs"
   ],
   "metadata": {
    "collapsed": false
   }
  },
  {
   "cell_type": "code",
   "execution_count": 30,
   "outputs": [
    {
     "name": "stdout",
     "output_type": "stream",
     "text": [
      "okta: 200, Found 149 jobs\n",
      "Preview of the first job:\n",
      "{\"absolute_url\": \"https://www.okta.com/company/careers/opportunity/4977199?gh_jid=4977199\", \"data_compliance\": [{\"type\": \"gdpr\", \"requires_consent\": false, \"requires_processing_consent\": false, \"requires_retention_consent\": false, \"retention_period\": null}], \"internal_job_id\": 2518868, \"location\": {\"name\": \"Melbourne \"}, \"metadata\": null, \"id\": 4977199, \"updated_at\": \"2023-05-12T11:53:14-04:00\", \"requisition_id\": \"P17320_2518868\", \"title\": \"Account Executive, ISV & DNB Sales\", \"content\": \"&lt;div class=&quot;content-intro&quot;&gt;&lt;p&gt;&lt;span style=&quot;color: #000000;&quot;&gt;&lt;strong&gt;Get to know Okta&lt;/strong&gt;&lt;/span&gt;&lt;/p&gt;\\n&lt;p&gt;&lt;span style=&quot;color: #000000;&quot;&gt;&lt;br&gt;&lt;/span&gt;Okta is The World\\u2019s Identity Company. We free everyone to safely use any technology\\u2014anywhere, on any device or app. Our Workforce and Customer Identity Clouds enable secure yet flexible access, authentication, and automation that transforms how people move through the digital world, putting Identity at the heart of business security and growth.&amp;nbsp;&lt;br&gt;&lt;br&gt;At Okta, we celebrate a variety of perspectives and experiences. We are not looking for someone who checks every single box, we\\u2019re looking for lifelong learners and people who can make us better with their unique experiences.&amp;nbsp;&lt;br&gt;&lt;br&gt;Join our team! We\\u2019re building a world where Identity belongs to you.&lt;/p&gt;&lt;/div&gt;&lt;p&gt;&lt;strong&gt;Job Purpose&lt;/strong&gt;&lt;/p&gt;\\n&lt;p&gt;&lt;span style=&quot;font-weight: 400;&quot;&gt;Many of the world\\u2019s largest digital businesses rely on Okta every day to power customer interactions in a world where every company needs to be a technology company. Whether it is a software vendor building platforms to better solve the problems of today and tomorrow or the digitally native disrupters providing personalised, consumer centric web and mobile outcomes, faster - identity is central to the digital experience. As a key growth driver for our business, we\\u2019re building a dedicated team to focus on enabling the most innovative companies in ANZ to accomplish their goals. This is an exciting, first of its kind opportunity at Okta.&lt;/span&gt;&lt;/p&gt;\\n&lt;p&gt;&lt;span style=&quot;font-weight: 400;&quot;&gt;Our Digital Native Business (DNB) and Independent Software Vendor (ISV) Account Executives at Okta lead the sales process with our fastest growing customers and prospective customers in DNB and ISV verticals. You will work in an assigned territory of organizations that manage most of their business operations using digital technologies in a high growth, adaptable environment.&amp;nbsp;&lt;/span&gt;&lt;/p&gt;\\n&lt;p&gt;&lt;span style=&quot;font-weight: 400;&quot;&gt;This is a senior level, high visibility sales position working with some of our largest spending customers and best fit prospects. We provide our AEs with an environment that enables learning and growth. The work you do will directly impact the experience of our customers.&lt;/span&gt;&lt;/p&gt;\\n&lt;p&gt;&lt;strong&gt;Skills &amp;amp; experiences that will help in the role:&lt;/strong&gt;&lt;/p&gt;\\n&lt;ul&gt;\\n&lt;li style=&quot;font-weight: 400;&quot;&gt;&lt;span style=&quot;font-weight: 400;&quot;&gt;Genuine interest in emerging and disruptive technology, start-ups, venture funded and pre-IPO companies&lt;/span&gt;&lt;/li&gt;\\n&lt;li style=&quot;font-weight: 400;&quot;&gt;&lt;span style=&quot;font-weight: 400;&quot;&gt;Ideally, experience partnering with CTOs, CPOs, CDOs, and their extended teams to influence long term platform partnerships. This has resulted in a strong network of product, developer, and digital business leaders&amp;nbsp;&lt;/span&gt;&lt;/li&gt;\\n&lt;li style=&quot;font-weight: 400;&quot;&gt;&lt;span style=&quot;font-weight: 400;&quot;&gt;Ideally sold similar enterprise cloud software or infrastructure management, application development technologies, dev-ops technologies, digital experience platforms, customer data platforms, CMS, mart-tech solution sets, and/or analytics toolings&amp;nbsp;&lt;/span&gt;&lt;/li&gt;\\n&lt;li style=&quot;font-weight: 400;&quot;&gt;&lt;span style=&quot;font-weight: 400;&quot;&gt;Versed in vision creation and evangelization of new technologies in the \\u201cmarket creation\\u201d phase of their maturity&lt;/span&gt;&lt;/li&gt;\\n&lt;li style=&quot;font-weight: 400;&quot;&gt;&lt;span style=&quot;font-weight: 400;&quot;&gt;Familiar with product lead growth GtM, understanding of digital and hybrid digital business models&lt;/span&gt;&lt;/li&gt;\\n&lt;li style=&quot;font-weight: 400;&quot;&gt;&lt;span style=&quot;font-weight: 400;&quot;&gt;Calm, low reactor under stress but a responsive and enthusiastic high energy in discovery and pitch scenarios&lt;/span&gt;&lt;/li&gt;\\n&lt;li style=&quot;font-weight: 400;&quot;&gt;&lt;span style=&quot;font-weight: 400;&quot;&gt;Created a strategic account plan to progress an engagement when there was no clear next step&lt;/span&gt;&lt;/li&gt;\\n&lt;li style=&quot;font-weight: 400;&quot;&gt;&lt;span style=&quot;font-weight: 400;&quot;&gt;Track record of aligning strategically across customer stakeholders to build value and grow wallet share in customer account, proven history of successful platform sales&lt;/span&gt;&lt;/li&gt;\\n&lt;li style=&quot;font-weight: 400;&quot;&gt;&lt;span style=&quot;font-weight: 400;&quot;&gt;Experience building advocates in new business accounts and over achieving sales targets&lt;/span&gt;&lt;/li&gt;\\n&lt;li style=&quot;font-weight: 400;&quot;&gt;&lt;span style=&quot;font-weight: 400;&quot;&gt;Experience closing six figure software B2B SaaS deals with prospects and customers in a named territory&lt;/span&gt;&lt;/li&gt;\\n&lt;li style=&quot;font-weight: 400;&quot;&gt;&lt;span style=&quot;font-weight: 400;&quot;&gt;Outstanding communicator, compelling presenter, and excellence listener&amp;nbsp;&lt;/span&gt;&lt;/li&gt;\\n&lt;li style=&quot;font-weight: 400;&quot;&gt;&lt;span style=&quot;font-weight: 400;&quot;&gt;Experience with target account selling, solution selling, and/or consultative sales techniques; knowledge of MEDDICC qualification framework and Challenger methodology is a plus&lt;/span&gt;&lt;/li&gt;\\n&lt;li style=&quot;font-weight: 400;&quot;&gt;&lt;span style=&quot;font-weight: 400;&quot;&gt;Strong grasp on the fundamentals of running a discovery call&amp;nbsp;&lt;/span&gt;&lt;/li&gt;\\n&lt;li style=&quot;font-weight: 400;&quot;&gt;&lt;span style=&quot;font-weight: 400;&quot;&gt;Previous experience utilizing partners, channels, and alliances including hyperscale cloud providers such as AWS to take market share&lt;/span&gt;&lt;/li&gt;\\n&lt;/ul&gt;\\n&lt;p&gt;&lt;strong&gt;&lt;br&gt;&lt;/strong&gt;&lt;strong&gt;Job Duties and Responsibilities:&lt;/strong&gt;&lt;/p&gt;\\n&lt;ul&gt;\\n&lt;li style=&quot;font-weight: 400;&quot;&gt;&lt;span style=&quot;font-weight: 400;&quot;&gt;Embrace Okta\\u2019s #1 core value is to always love our customers.&lt;/span&gt;&lt;/li&gt;\\n&lt;li style=&quot;font-weight: 400;&quot;&gt;&lt;span style=&quot;font-weight: 400;&quot;&gt;Become known as a thought-leader on app development, cyber security and digital growth strategies&lt;/span&gt;&lt;/li&gt;\\n&lt;li style=&quot;font-weight: 400;&quot;&gt;&lt;span style=&quot;font-weight: 400;&quot;&gt;Establish a vision and plan to guide a long-term approach to pipeline generation and opportunity progression across net new and customer accounts that is heuristic, referral based, and data driven&lt;/span&gt;&lt;/li&gt;\\n&lt;li style=&quot;font-weight: 400;&quot;&gt;&lt;span style=&quot;font-weight: 400;&quot;&gt;Consistently deliver ARR revenue targets to support YOY growth \\u2013 dedication to the number and to deadlines&lt;/span&gt;&lt;/li&gt;\\n&lt;li style=&quot;font-weight: 400;&quot;&gt;&lt;span style=&quot;font-weight: 400;&quot;&gt;Land, adopt, expand, and deepen sales opportunities across a variety of complex use-cases within a multi-product, multi-stakeholder sale&lt;/span&gt;&lt;/li&gt;\\n&lt;li style=&quot;font-weight: 400;&quot;&gt;&lt;span style=&quot;font-weight: 400;&quot;&gt;Holistically embrace, access, and utilise the channel/alliances including SIs, Resellers, and ISV or IaaS partners to identify new opportunities and better execute on your pipeline progression and generation&lt;/span&gt;&lt;/li&gt;\\n&lt;li style=&quot;font-weight: 400;&quot;&gt;&lt;span style=&quot;font-weight: 400;&quot;&gt;Work as a team for the most efficient use and deployment of resources&amp;nbsp;&lt;/span&gt;&lt;/li&gt;\\n&lt;li style=&quot;font-weight: 400;&quot;&gt;&lt;span style=&quot;font-weight: 400;&quot;&gt;Provide timely and insightful input back to other corporate functions.&lt;/span&gt;&lt;/li&gt;\\n&lt;li style=&quot;font-weight: 400;&quot;&gt;&lt;span style=&quot;font-weight: 400;&quot;&gt;Position Okta at both the functional and \\u201cbusiness value\\u201d level with target stakeholders across engineering, IT, marketing, HR, product, and digital teams&amp;nbsp;&lt;/span&gt;&lt;/li&gt;\\n&lt;li style=&quot;font-weight: 400;&quot;&gt;&lt;span style=&quot;font-weight: 400;&quot;&gt;Champion Okta to prospective clients at sales presentations, site visits and product demonstrations - some travel required&lt;/span&gt;&lt;/li&gt;\\n&lt;li style=&quot;font-weight: 400;&quot;&gt;&lt;span style=&quot;font-weight: 400;&quot;&gt;Build effective working partnerships with your Okta colleagues (channel partners, solutions engineering, business value management, customer first and many more globally) with humility and enthusiasm&lt;/span&gt;&lt;/li&gt;\\n&lt;/ul&gt;\\n&lt;p&gt;&amp;nbsp;&lt;/p&gt;\\n&lt;p&gt;&lt;span style=&quot;font-weight: 400;&quot;&gt;#LI-Remote&lt;/span&gt;&lt;/p&gt;\\n&lt;p&gt;&lt;span style=&quot;font-weight: 400;&quot;&gt;#LI-MT1&lt;/span&gt;&lt;/p&gt;&lt;div class=&quot;content-conclusion&quot;&gt;&lt;p&gt;&lt;strong&gt;&lt;span style=&quot;color: #000000;&quot;&gt;What you can look forward to as an Okta employee!&lt;/span&gt;&lt;/strong&gt;&lt;/p&gt;\\n&lt;ul&gt;\\n&lt;li&gt;&lt;span style=&quot;color: #000000;&quot;&gt;Amazing &lt;a href=&quot;https://rewards.okta.com/&quot; target=&quot;_blank&quot; data-saferedirecturl=&quot;https://www.google.com/url?q=https://rewards.okta.com/&amp;amp;source=gmail&amp;amp;ust=1677948559087000&amp;amp;usg=AOvVaw0Smv8KiGrXS3C1_LQmHF9D&quot;&gt;Benefits&lt;/a&gt;&lt;/span&gt;&lt;/li&gt;\\n&lt;li&gt;&lt;span style=&quot;color: #000000;&quot;&gt;Making &lt;a href=&quot;https://www.okta.com/okta-for-good/&quot; target=&quot;_blank&quot; data-saferedirecturl=&quot;https://www.google.com/url?q=https://www.okta.com/okta-for-good/&amp;amp;source=gmail&amp;amp;ust=1677948559087000&amp;amp;usg=AOvVaw2kKFyZVPp9NLrjKMOBXtWi&quot;&gt;Social Impact&lt;/a&gt;&lt;/span&gt;&lt;/li&gt;\\n&lt;li&gt;&lt;span style=&quot;color: #000000;&quot;&gt;Fostering &lt;a href=&quot;https://www.okta.com/diversity/&quot; target=&quot;_blank&quot; data-saferedirecturl=&quot;https://www.google.com/url?q=https://www.okta.com/diversity/&amp;amp;source=gmail&amp;amp;ust=1677948559087000&amp;amp;usg=AOvVaw0jfjeqRJu7TzCNXBlUsLD9&quot;&gt;Diversity, Equity, Inclusion and Belonging at Okta&amp;nbsp;&lt;/a&gt;&lt;/span&gt;&lt;/li&gt;\\n&lt;/ul&gt;\\n&lt;p&gt;Okta cultivates a dynamic work environment, providing the best tools, technology and benefits to empower our employees to work productively in a setting that best and uniquely suits their needs. Each organization is unique in the degree of flexibility and mobility in which they work so that all employees are enabled to be their most creative and successful versions of themselves, regardless of where they live. Find your place at Okta&lt;a href=&quot;https://www.okta.com/company/careers/&quot; target=&quot;_blank&quot; data-saferedirecturl=&quot;https://www.google.com/url?q=https://www.okta.com/company/careers/&amp;amp;source=gmail&amp;amp;ust=1677948559087000&amp;amp;usg=AOvVaw0Sy_6hHRhrwzwXgCfEiRV1&quot;&gt; today! https://www.okta.com/company/careers/&lt;/a&gt;.&lt;/p&gt;\\n&lt;p&gt;Okta is an Equal Opportunity Employer/Affirmative Action Employer. All qualified applicants will receive consideration for employment without regard to race, color, religion, sex, sexual orientation, gender identity, national origin, ancestry, marital status, age, physical or mental disability, or status as a protected veteran. We also consider for employment qualified applicants with arrest and convictions records, consistent with applicable laws. If reasonable accommodation is needed to participate in the job application or interview process, please use this&lt;a href=&quot;https://docs.google.com/forms/d/1EfiEYZrIyhA2X4Fijk0R3RKYOzNoS3wtvyM4nhbZnXE/edit&quot; target=&quot;_blank&quot; data-saferedirecturl=&quot;https://www.google.com/url?q=https://docs.google.com/forms/d/1EfiEYZrIyhA2X4Fijk0R3RKYOzNoS3wtvyM4nhbZnXE/edit&amp;amp;source=gmail&amp;amp;ust=1677948559087000&amp;amp;usg=AOvVaw152wP4kqe-oDJRAeGVJrN7&quot;&gt; Form&lt;/a&gt; to request an accommodation.&lt;/p&gt;\\n&lt;p&gt;Okta is committed to complying with applicable data privacy and security laws and regulations. For more information, please see our Privacy Policy at &lt;a href=&quot;https://www.okta.com/privacy-policy/&quot; target=&quot;_blank&quot; data-saferedirecturl=&quot;https://www.google.com/url?q=https://www.okta.com/privacy-policy/&amp;amp;source=gmail&amp;amp;ust=1677948559087000&amp;amp;usg=AOvVaw2ZSu8-Xy6xVS2Ut21kiDK1&quot;&gt;https://www.okta.com/privacy-policy/&lt;/a&gt;.&amp;nbsp;&lt;/p&gt;&lt;/div&gt;\", \"departments\": [{\"id\": 28485, \"name\": \"Corporate Sales-330\", \"child_ids\": [], \"parent_id\": 64398}], \"offices\": [{\"id\": 80309, \"name\": \"Australia Remote\", \"location\": null, \"child_ids\": [], \"parent_id\": 80308}]}\n"
     ]
    }
   ],
   "source": [
    "jobs = pull_data_from_url(\"okta\")\n",
    "print(\"Preview of the first job:\") # checking out the first position\n",
    "print (json.dumps(jobs[0]))"
   ],
   "metadata": {
    "collapsed": false
   }
  },
  {
   "cell_type": "code",
   "execution_count": 37,
   "outputs": [
    {
     "name": "stdout",
     "output_type": "stream",
     "text": [
      "Job ID: 4977199\n",
      "Link: https://www.okta.com/company/careers/opportunity/4977199?gh_jid=4977199\n",
      "Updated At: May 12, 2023\n",
      "Title: Account Executive, ISV & DNB Sales\n",
      "\n",
      "Content:\n",
      "**Get to know Okta**\n",
      "\n",
      "\n",
      "  \n",
      "Okta is The World’s Identity Company. We free everyone to safely use any technology—anywhere, on any device or app. Our Workforce and Customer Identity Clouds enable secure yet flexible access, authentication, and automation that transforms how people move through the digital world, putting Identity at the heart of business security and growth.   \n",
      "  \n",
      "At Okta, we celebrate a variety of perspectives and experiences. We are not looking for someone who checks every single box, we’re looking for lifelong learners and people who can make us better with their unique experiences.   \n",
      "  \n",
      "Join our team! We’re building a world where Identity belongs to you.\n",
      "\n",
      "**Job Purpose**\n",
      "\n",
      "\n",
      "Many of the world’s largest digital businesses rely on Okta every day to power customer interactions in a world where every company needs to be a technology company. Whether it is a software vendor building platforms to better solve the problems of today and tomorrow or the digitally native disrupters providing personalised, consumer centric web and mobile outcomes, faster - identity is central to the digital experience. As a key growth driver for our business, we’re building a dedicated team to focus on enabling the most innovative companies in ANZ to accomplish their goals. This is an exciting, first of its kind opportunity at Okta.\n",
      "\n",
      "\n",
      "Our Digital Native Business (DNB) and Independent Software Vendor (ISV) Account Executives at Okta lead the sales process with our fastest growing customers and prospective customers in DNB and ISV verticals. You will work in an assigned territory of organizations that manage most of their business operations using digital technologies in a high growth, adaptable environment. \n",
      "\n",
      "\n",
      "This is a senior level, high visibility sales position working with some of our largest spending customers and best fit prospects. We provide our AEs with an environment that enables learning and growth. The work you do will directly impact the experience of our customers.\n",
      "\n",
      "\n",
      "**Skills & experiences that will help in the role:**\n",
      "\n",
      "\n",
      "* Genuine interest in emerging and disruptive technology, start-ups, venture funded and pre-IPO companies\n",
      "* Ideally, experience partnering with CTOs, CPOs, CDOs, and their extended teams to influence long term platform partnerships. This has resulted in a strong network of product, developer, and digital business leaders\n",
      "* Ideally sold similar enterprise cloud software or infrastructure management, application development technologies, dev-ops technologies, digital experience platforms, customer data platforms, CMS, mart-tech solution sets, and/or analytics toolings\n",
      "* Versed in vision creation and evangelization of new technologies in the “market creation” phase of their maturity\n",
      "* Familiar with product lead growth GtM, understanding of digital and hybrid digital business models\n",
      "* Calm, low reactor under stress but a responsive and enthusiastic high energy in discovery and pitch scenarios\n",
      "* Created a strategic account plan to progress an engagement when there was no clear next step\n",
      "* Track record of aligning strategically across customer stakeholders to build value and grow wallet share in customer account, proven history of successful platform sales\n",
      "* Experience building advocates in new business accounts and over achieving sales targets\n",
      "* Experience closing six figure software B2B SaaS deals with prospects and customers in a named territory\n",
      "* Outstanding communicator, compelling presenter, and excellence listener\n",
      "* Experience with target account selling, solution selling, and/or consultative sales techniques; knowledge of MEDDICC qualification framework and Challenger methodology is a plus\n",
      "* Strong grasp on the fundamentals of running a discovery call\n",
      "* Previous experience utilizing partners, channels, and alliances including hyperscale cloud providers such as AWS to take market share\n",
      "\n",
      "\n",
      "**Job Duties and Responsibilities:**\n",
      "\n",
      "\n",
      "* Embrace Okta’s #1 core value is to always love our customers.\n",
      "* Become known as a thought-leader on app development, cyber security and digital growth strategies\n",
      "* Establish a vision and plan to guide a long-term approach to pipeline generation and opportunity progression across net new and customer accounts that is heuristic, referral based, and data driven\n",
      "* Consistently deliver ARR revenue targets to support YOY growth – dedication to the number and to deadlines\n",
      "* Land, adopt, expand, and deepen sales opportunities across a variety of complex use-cases within a multi-product, multi-stakeholder sale\n",
      "* Holistically embrace, access, and utilise the channel/alliances including SIs, Resellers, and ISV or IaaS partners to identify new opportunities and better execute on your pipeline progression and generation\n",
      "* Work as a team for the most efficient use and deployment of resources\n",
      "* Provide timely and insightful input back to other corporate functions.\n",
      "* Position Okta at both the functional and “business value” level with target stakeholders across engineering, IT, marketing, HR, product, and digital teams\n",
      "* Champion Okta to prospective clients at sales presentations, site visits and product demonstrations - some travel required\n",
      "* Build effective working partnerships with your Okta colleagues (channel partners, solutions engineering, business value management, customer first and many more globally) with humility and enthusiasm\n",
      "\n",
      "\n",
      " \n",
      "\n",
      "\n",
      "#LI-Remote\n",
      "\n",
      "\n",
      "#LI-MT1\n",
      "\n",
      "**What you can look forward to as an Okta employee!**\n",
      "\n",
      "\n",
      "* Amazing [Benefits](https://rewards.okta.com/)\n",
      "* Making [Social Impact](https://www.okta.com/okta-for-good/)\n",
      "* Fostering [Diversity, Equity, Inclusion and Belonging at Okta](https://www.okta.com/diversity/)\n",
      "\n",
      "\n",
      "Okta cultivates a dynamic work environment, providing the best tools, technology and benefits to empower our employees to work productively in a setting that best and uniquely suits their needs. Each organization is unique in the degree of flexibility and mobility in which they work so that all employees are enabled to be their most creative and successful versions of themselves, regardless of where they live. Find your place at Okta [today! https://www.okta.com/company/careers/](https://www.okta.com/company/careers/).\n",
      "\n",
      "\n",
      "Okta is an Equal Opportunity Employer/Affirmative Action Employer. All qualified applicants will receive consideration for employment without regard to race, color, religion, sex, sexual orientation, gender identity, national origin, ancestry, marital status, age, physical or mental disability, or status as a protected veteran. We also consider for employment qualified applicants with arrest and convictions records, consistent with applicable laws. If reasonable accommodation is needed to participate in the job application or interview process, please use this [Form](https://docs.google.com/forms/d/1EfiEYZrIyhA2X4Fijk0R3RKYOzNoS3wtvyM4nhbZnXE/edit) to request an accommodation.\n",
      "\n",
      "\n",
      "Okta is committed to complying with applicable data privacy and security laws and regulations. For more information, please see our Privacy Policy at <https://www.okta.com/privacy-policy/>. \n",
      "\n",
      "\n"
     ]
    }
   ],
   "source": [
    "def get_job_id(job):\n",
    "    \"\"\" get the job id from the json object \"\"\"\n",
    "    return job.get(\"absolute_url\").split(\"/\")[-1]\n",
    "\n",
    "def get_job_description(job):\n",
    "    \"\"\" display some important information about the job and return the content of the job as text\"\"\"\n",
    "    print(f\"Job ID: {job_description['id']}\")\n",
    "    print(f\"Link: {job_description['absolute_url']}\")\n",
    "    print(f\"Updated At: {datetime.fromisoformat(job_description['updated_at']).strftime('%B %-d, %Y')}\")\n",
    "    print(f\"Title: {job_description['title']}\\n\")\n",
    "    content_text = md(BeautifulSoup(job_description['content'], 'html.parser').get_text()) # we use Beautiful Soup to extract convert html to text\n",
    "    print(f\"Content:\\n{content_text}\")\n",
    "    return content_text\n",
    "# testing an example\n",
    "job_description = jobs[0]\n",
    "job_id = get_job_id(job_description)\n",
    "text = get_job_description(job_description)"
   ],
   "metadata": {
    "collapsed": false
   }
  },
  {
   "cell_type": "markdown",
   "source": [
    "Next we use Kor to extract data into a json object"
   ],
   "metadata": {
    "collapsed": false
   }
  },
  {
   "cell_type": "code",
   "execution_count": 34,
   "outputs": [],
   "source": [
    "tools = Object(\n",
    "    id=\"skills\",\n",
    "    description=\"\"\"\n",
    "        A tool, framework, or programming language that the job listed as requirements.\n",
    "    \"\"\",\n",
    "    attributes=[\n",
    "        Text(\n",
    "            id=\"skill\",\n",
    "            description=\"The name of a tool, framework, or programming language\"\n",
    "        )\n",
    "    ],\n",
    "    examples=[\n",
    "        (\n",
    "            \"Experience in working with Pytorch, or Python, Apache Spark is a plus.\",\n",
    "            [\n",
    "                {\"skill\": \"Pytorch\"},\n",
    "                {\"skill\": \"Python\"},\n",
    "                {\"skill\": \"Apache Spark\"},\n",
    "            ],\n",
    "        ),\n",
    "        (\n",
    "           \"Experience with Microsoft Excel\",\n",
    "            [\n",
    "               {\"skill\": \"Microsoft Excel\"}\n",
    "            ]\n",
    "        ),\n",
    "        (\n",
    "           \"You must have at least 3 years of experience with AWS\",\n",
    "            [\n",
    "               {\"skill\": \"AWS\"}\n",
    "            ]\n",
    "        ),\n",
    "    ],\n",
    "    many=True,\n",
    ")"
   ],
   "metadata": {
    "collapsed": false
   }
  },
  {
   "cell_type": "code",
   "execution_count": 35,
   "outputs": [],
   "source": [
    "chain = create_extraction_chain(llm, tools, input_formatter=\"triple_quotes\")"
   ],
   "metadata": {
    "collapsed": false
   }
  },
  {
   "cell_type": "code",
   "execution_count": 39,
   "outputs": [
    {
     "name": "stdout",
     "output_type": "stream",
     "text": [
      "{\"skills\": [{\"skill\": \"app development\"}, {\"skill\": \"cyber security\"}, {\"skill\": \"digital growth strategies\"}, {\"skill\": \"enterprise cloud software\"}, {\"skill\": \"infrastructure management\"}, {\"skill\": \"application development technologies\"}, {\"skill\": \"dev-ops technologies\"}, {\"skill\": \"digital experience platforms\"}, {\"skill\": \"customer data platforms\"}, {\"skill\": \"CMS\"}, {\"skill\": \"mart-tech solution sets\"}, {\"skill\": \"analytics toolings\"}, {\"skill\": \"MEDDICC qualification framework\"}, {\"skill\": \"Challenger methodology\"}, {\"skill\": \"target account selling\"}, {\"skill\": \"solution selling\"}, {\"skill\": \"consultative sales techniques\"}, {\"skill\": \"partnerships\"}, {\"skill\": \"hyperscale cloud providers\"}, {\"skill\": \"AWS\"}]}\n"
     ]
    }
   ],
   "source": [
    "output = chain.predict_and_parse(text=text)[\"data\"]\n",
    "print(json.dumps(output,sort_keys=True))"
   ],
   "metadata": {
    "collapsed": false
   }
  },
  {
   "cell_type": "code",
   "execution_count": null,
   "outputs": [],
   "source": [],
   "metadata": {
    "collapsed": false
   }
  }
 ],
 "metadata": {
  "kernelspec": {
   "display_name": "Python 3",
   "language": "python",
   "name": "python3"
  },
  "language_info": {
   "codemirror_mode": {
    "name": "ipython",
    "version": 2
   },
   "file_extension": ".py",
   "mimetype": "text/x-python",
   "name": "python",
   "nbconvert_exporter": "python",
   "pygments_lexer": "ipython2",
   "version": "2.7.6"
  }
 },
 "nbformat": 4,
 "nbformat_minor": 0
}
